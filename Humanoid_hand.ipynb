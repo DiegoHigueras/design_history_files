{
 "cells": [
  {
   "cell_type": "markdown",
   "metadata": {},
   "source": [
    "# Design History File (DHF). Humanoid Hand"
   ]
  },
  {
   "cell_type": "markdown",
   "metadata": {},
   "source": [
    "\n",
    "## 1. Introduction\n",
    "- Background and motivation for the prosthetic hand design.\n",
    "- Target user group and their specific needs.\n",
    "- Overview of the design goals and objectives."
   ]
  },
  {
   "cell_type": "markdown",
   "metadata": {},
   "source": [
    "\n",
    "## 2. User Needs Analysis\n",
    "- User demographics (age, occupation, lifestyle).\n",
    "- Functional requirements based on daily activities.\n",
    "- Cognitive and ergonomic considerations.\n",
    "- Input from potential users and clinicians.\n"
   ]
  },
  {
   "cell_type": "markdown",
   "metadata": {},
   "source": [
    "## 3. Literature Review\n",
    "- Review of existing prosthetic hand designs.\n",
    "- Overview of materials and technologies used.\n",
    "- Analysis of success stories and challenges in prosthetic design."
   ]
  },
  {
   "cell_type": "markdown",
   "metadata": {},
   "source": [
    "## 4. Regulatory and Ethical Considerations\n",
    "- Compliance with relevant medical device regulations.\n",
    "- Ethical considerations in prosthetic design.\n",
    "- Patient safety and risk management."
   ]
  },
  {
   "cell_type": "markdown",
   "metadata": {},
   "source": [
    "## 5. Biomechanics and Ergonomics\n",
    "- Study of human hand anatomy and biomechanics.\n",
    "- Ergonomic considerations for comfortable use.\n",
    "- Range of motion and dexterity requirements."
   ]
  },
  {
   "cell_type": "markdown",
   "metadata": {},
   "source": [
    "## 6. Materials Selection\n",
    "- Overview of materials suitable for prosthetic design.\n",
    "- Consideration of factors such as weight, strength, and biocompatibility.\n",
    "- Integration of advanced materials (if applicable)."
   ]
  },
  {
   "cell_type": "markdown",
   "metadata": {},
   "source": [
    "## 7. Mechanical Design\n",
    "- Joint design and actuation mechanisms.\n",
    "- Power source selection (e.g., myoelectric, pneumatic, or mechanical).\n",
    "- Integration of sensors for feedback."
   ]
  },
  {
   "cell_type": "markdown",
   "metadata": {},
   "source": [
    "## 8. Control System\n",
    "- Control interface (myoelectric signals, sensors, etc.).\n",
    "- Signal processing and decoding algorithms.\n",
    "- Human-machine interface considerations."
   ]
  },
  {
   "cell_type": "markdown",
   "metadata": {},
   "source": [
    "## 9. Prototyping and Testing\n",
    "- Rapid prototyping of the prosthetic hand.\n",
    "- Mechanical testing for strength and durability.\n",
    "- Functional testing with potential users."
   ]
  },
  {
   "cell_type": "markdown",
   "metadata": {},
   "source": [
    "## 10. Human Factors and Usability Testing\n",
    "- User-centered design considerations.\n",
    "- Usability testing with target users.\n",
    "- Iterative design based on user feedback."
   ]
  },
  {
   "cell_type": "markdown",
   "metadata": {},
   "source": [
    "## 11. Integration of Artificial Intelligence (AI)\n",
    "- Explore AI applications for adaptive control.\n",
    "- Machine learning for personalized adjustments.\n",
    "- Considerations for AI-powered enhancements."
   ]
  },
  {
   "cell_type": "markdown",
   "metadata": {},
   "source": [
    "## 12. Cost Analysis and Manufacturing\n",
    "- Estimate manufacturing costs.\n",
    "- Considerations for mass production.\n",
    "- Selection of manufacturing methods and vendors."
   ]
  },
  {
   "cell_type": "markdown",
   "metadata": {},
   "source": [
    "## 13. Documentation and Design History File (DHF)\n",
    "- Comprehensive documentation of the design process.\n",
    "- Design validation and verification.\n",
    "- DHF for regulatory compliance."
   ]
  },
  {
   "cell_type": "markdown",
   "metadata": {},
   "source": [
    "## 14. Future Enhancements and Scalability\n",
    "- Considerations for future upgrades.\n",
    "- Scalability for different user needs.\n",
    "- Potential collaboration with the research community."
   ]
  },
  {
   "cell_type": "markdown",
   "metadata": {},
   "source": [
    "## 15. Conclusion\n",
    "- Summary of key design achievements.\n",
    "- Reflection on challenges and lessons learned.\n",
    "- Considerations for future improvements and research."
   ]
  },
  {
   "cell_type": "markdown",
   "metadata": {},
   "source": [
    "# Design Source Control"
   ]
  },
  {
   "cell_type": "markdown",
   "metadata": {},
   "source": [
    "## Version 1 to v6"
   ]
  },
  {
   "cell_type": "markdown",
   "metadata": {},
   "source": [
    "### Parametrization\n",
    "- High level:\n",
    "    - Ideally, I would like to parametrize the hand using the 95-percentile for humans ([human_hand_95percentile](../NO_git_files/Bioinspired_projects/Human_hand/literature/AnthropometrichanddimensionsinapopulationofIranianmaleworkersin2012.pdf)) using the age as the input.\n",
    "    - So, you input the age of the victim and the hand readjust to what the 95-percentile for an indivudual of that age is.\n",
    "- Low level:\n",
    "    - Let's start w/ basic parametrization and relation to allow the finger to not break when changing parameters.\n",
    "    - Key parameters occured in the z-axis (height) and x-y-plane. \n",
    "        - For the first one, I will parametrize the distance btw planes.\n",
    "        - For the second one, the aspect ratio of the profiles."
   ]
  },
  {
   "cell_type": "markdown",
   "metadata": {},
   "source": [
    "### Changes\n",
    "- **Proximal phalange (PIP)**:\n",
    "    - The goal is to make this part strongly versitely and substainable. This is a difficult part so this is also a challange.\n",
    "    - I defined the PIP using non-equidistant planes where I defined crossectional sketches.\n",
    "        - The distance btw planes is parametrized as well as the cross-section sketches.\n",
    "        - The entire phalange is generated using a loft.\n",
    "        - I find this to be the most optimal way achieve substainability.\n",
    "    - Empty part with hollowing to allow the tendons to pass.\n",
    "    - **Design with 3D-printing orientation in mind**. This mean that some features have been selected to allow or improve printing, and others, **have been developed not for a functional purpose but a manufacturability purppose**."
   ]
  }
 ],
 "metadata": {
  "language_info": {
   "name": "python"
  }
 },
 "nbformat": 4,
 "nbformat_minor": 2
}
