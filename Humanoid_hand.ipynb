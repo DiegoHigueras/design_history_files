{
 "cells": [
  {
   "cell_type": "markdown",
   "metadata": {},
   "source": [
    "# Design History File (DHF). Humanoid Hand"
   ]
  },
  {
   "cell_type": "markdown",
   "metadata": {},
   "source": [
    "\n",
    "## 1. Introduction\n",
    "- Background and motivation for the prosthetic hand design.\n",
    "- Target user group and their specific needs.\n",
    "- Overview of the design goals and objectives."
   ]
  },
  {
   "cell_type": "markdown",
   "metadata": {},
   "source": [
    "\n",
    "## 2. User Needs Analysis\n",
    "- User demographics (age, occupation, lifestyle).\n",
    "- Functional requirements based on daily activities.\n",
    "- Cognitive and ergonomic considerations.\n",
    "- Input from potential users and clinicians.\n"
   ]
  },
  {
   "cell_type": "markdown",
   "metadata": {},
   "source": [
    "## 3. Literature Review\n",
    "- Review of existing prosthetic hand designs.\n",
    "- Overview of materials and technologies used.\n",
    "- Analysis of success stories and challenges in prosthetic design."
   ]
  },
  {
   "cell_type": "markdown",
   "metadata": {},
   "source": [
    "## 4. Regulatory and Ethical Considerations\n",
    "- Compliance with relevant medical device regulations.\n",
    "- Ethical considerations in prosthetic design.\n",
    "- Patient safety and risk management."
   ]
  },
  {
   "cell_type": "markdown",
   "metadata": {},
   "source": [
    "## 5. Biomechanics and Ergonomics\n",
    "- Study of human hand anatomy and biomechanics.\n",
    "- Ergonomic considerations for comfortable use.\n",
    "- Range of motion and dexterity requirements."
   ]
  },
  {
   "cell_type": "markdown",
   "metadata": {},
   "source": [
    "## 6. Materials Selection\n",
    "- Overview of materials suitable for prosthetic design.\n",
    "- Consideration of factors such as weight, strength, and biocompatibility.\n",
    "- Integration of advanced materials (if applicable)."
   ]
  },
  {
   "cell_type": "markdown",
   "metadata": {},
   "source": [
    "## 7. Mechanical Design\n",
    "- Joint design and actuation mechanisms.\n",
    "- Power source selection (e.g., myoelectric, pneumatic, or mechanical).\n",
    "- Integration of sensors for feedback."
   ]
  },
  {
   "cell_type": "markdown",
   "metadata": {},
   "source": [
    "## 8. Control System\n",
    "- Control interface (myoelectric signals, sensors, etc.).\n",
    "- Signal processing and decoding algorithms.\n",
    "- Human-machine interface considerations."
   ]
  },
  {
   "cell_type": "markdown",
   "metadata": {},
   "source": [
    "## 9. Prototyping and Testing\n",
    "- Rapid prototyping of the prosthetic hand.\n",
    "- Mechanical testing for strength and durability.\n",
    "- Functional testing with potential users."
   ]
  },
  {
   "cell_type": "markdown",
   "metadata": {},
   "source": [
    "## 10. Human Factors and Usability Testing\n",
    "- User-centered design considerations.\n",
    "- Usability testing with target users.\n",
    "- Iterative design based on user feedback."
   ]
  },
  {
   "cell_type": "markdown",
   "metadata": {},
   "source": [
    "## 11. Integration of Artificial Intelligence (AI)\n",
    "- Explore AI applications for adaptive control.\n",
    "- Machine learning for personalized adjustments.\n",
    "- Considerations for AI-powered enhancements."
   ]
  },
  {
   "cell_type": "markdown",
   "metadata": {},
   "source": [
    "## 12. Cost Analysis and Manufacturing\n",
    "- Estimate manufacturing costs.\n",
    "- Considerations for mass production.\n",
    "- Selection of manufacturing methods and vendors."
   ]
  },
  {
   "cell_type": "markdown",
   "metadata": {},
   "source": [
    "## 13. Documentation and Design History File (DHF)\n",
    "- Comprehensive documentation of the design process.\n",
    "- Design validation and verification.\n",
    "- DHF for regulatory compliance."
   ]
  },
  {
   "cell_type": "markdown",
   "metadata": {},
   "source": [
    "## 14. Future Enhancements and Scalability\n",
    "- Considerations for future upgrades.\n",
    "- Scalability for different user needs.\n",
    "- Potential collaboration with the research community."
   ]
  },
  {
   "cell_type": "markdown",
   "metadata": {},
   "source": [
    "## 15. Conclusion\n",
    "- Summary of key design achievements.\n",
    "- Reflection on challenges and lessons learned.\n",
    "- Considerations for future improvements and research."
   ]
  },
  {
   "cell_type": "markdown",
   "metadata": {},
   "source": [
    "# Design Source Control"
   ]
  },
  {
   "cell_type": "markdown",
   "metadata": {},
   "source": [
    "## Version 1 to v6"
   ]
  },
  {
   "cell_type": "markdown",
   "metadata": {},
   "source": [
    "### Parametrization\n",
    "- High level:\n",
    "    - Ideally, I would like to parametrize the hand using the 95-percentile for humans ([human_hand_95percentile](../NO_git_files/Bioinspired_projects/Human_hand/literature/AnthropometrichanddimensionsinapopulationofIranianmaleworkersin2012.pdf)) using the age as the input.\n",
    "    - So, you input the age of the victim and the hand readjust to what the 95-percentile for an indivudual of that age is.\n",
    "- Low level:\n",
    "    - Let's start w/ basic parametrization and relation to allow the finger to not break when changing parameters.\n",
    "    - Key parameters occured in the z-axis (height) and x-y-plane. \n",
    "        - For the first one, I will parametrize the distance btw planes.\n",
    "        - For the second one, the aspect ratio of the profiles."
   ]
  },
  {
   "cell_type": "markdown",
   "metadata": {},
   "source": [
    "### Changes\n",
    "- **Proximal phalange (PIP)**:\n",
    "    - The goal is to make this part strongly versitely and substainable. This is a difficult part so this is also a challange.\n",
    "    - I defined the PIP using non-equidistant planes where I defined crossectional sketches.\n",
    "        - The distance btw planes is parametrized as well as the cross-section sketches.\n",
    "        - The entire phalange is generated using a loft.\n",
    "        - I find this to be the most optimal way achieve substainability.\n",
    "    - Empty part with hollowing to allow the tendons to pass.\n",
    "    - **Design with 3D-printing orientation in mind**. This mean that some features have been selected to allow or improve printing, and others, **have been developed not for a functional purpose but a manufacturability purppose**."
   ]
  },
  {
   "cell_type": "markdown",
   "metadata": {},
   "source": [
    "### Images:\n",
    "\n",
    "<figure>\n",
    "<img src=\"img_src/version1_6_img1.png\"width=\"20%\"/>\n",
    "<img src=\"img_src/version1_6_img2.png\"width=\"20.25%\"/>\n",
    "<img src=\"img_src/Screenshot 2023-11-13 at 10.38.33 AM.png\"width=\"58%\"/>\n",
    "<figcaption>(Left) PIP desing. (Middle) Hollowed feature. (Right) Initial parametrization.\n",
    "</figcaption>\n",
    "</figure>"
   ]
  },
  {
   "cell_type": "markdown",
   "metadata": {},
   "source": [
    "### Video"
   ]
  },
  {
   "cell_type": "markdown",
   "metadata": {},
   "source": [
    "\n",
    "<video width=\"700\" height=\"400\" controls>\n",
    "<source src=\"./mov_src/compressed_video_adjusted.mp4\"type=\"video/mp4\">\n",
    "</video>\n",
    "\n",
    "PIP overview w/ internal cavity for tendons."
   ]
  },
  {
   "cell_type": "markdown",
   "metadata": {},
   "source": []
  },
  {
   "cell_type": "markdown",
   "metadata": {},
   "source": [
    "## Version 7 to 8"
   ]
  },
  {
   "cell_type": "markdown",
   "metadata": {},
   "source": [
    "### Parametrization\n",
    "- High level:\n",
    "    - Pending. I will design keeping this requirement in ming but I will apply this variable to the equation when I am close to have the hand.\n",
    "- Low level:\n",
    "    - Continue to maintain a sustainable CAD.\n",
    "    - Key parameters occured in the z-axis (height) and x-y-plane. **Both are patient age & also GENDER dependent** \n",
    "        - **x-y-plane** = Parametrizied using the base elipsode as input. Then used parameters from 1 to 0 to change aspect ration. I need to create a relation btw si parameters and patient age.\n",
    "        - **z-axis** = Distance btw planes. The primary distance is extracted from an Figure 1 in [Sex_determination_by_the_length_of_metacarpals](../NO_git_files/Bioinspired_projects/Human_hand/literature/Sex_determination_by_the_length_of_metacarpals_and-2.pdf)"
   ]
  },
  {
   "cell_type": "markdown",
   "metadata": {},
   "source": [
    "### Changes\n",
    "- **Proximal phalange (PIP)**:\n",
    "    - Lateral windows to reduce weight.\n",
    "    - Created tendon pass at cylindrical joint.\n",
    "    - Embossed version w/ OD intake joint and date.\n",
    "- **Middle phalange (MIP)**:\n",
    "    - Created MID and used PIP joint sketch to feature joint intake.\n",
    "\n",
    "- **Joints**\n",
    "    - Rigid the PIP.\n",
    "    - Revolute joint btw PIP and MIP.\n",
    "        - 90 deg range of motion.\n",
    "        - .5 mm offset. I need to paramitrize this."
   ]
  },
  {
   "cell_type": "markdown",
   "metadata": {},
   "source": [
    "### Images:\n",
    "\n",
    "<figure>\n",
    "<img src=\"img_src/Screenshot 2023-11-17 at 11.34.15 AM.png\"width=\"13.3%\"/>\n",
    "<img src=\"img_src/Screenshot 2023-11-17 at 11.34.28 AM.png\"width=\"11.4%\"/>\n",
    "<figcaption>(Left) PIP desing. (Right) Hollowed feature. \n",
    "</figcaption>\n",
    "</figure>"
   ]
  },
  {
   "cell_type": "markdown",
   "metadata": {},
   "source": [
    "### Video"
   ]
  },
  {
   "cell_type": "markdown",
   "metadata": {},
   "source": [
    "\n",
    "<video width=\"700\" height=\"400\" controls>\n",
    "<source src=\"./mov_src/Screen Recording 2023-11-17 at 11.38.45 AM.mov\"type=\"video/mp4\">\n",
    "</video>\n",
    "\n",
    "PIP and MIP overview w/ joint."
   ]
  },
  {
   "cell_type": "markdown",
   "metadata": {},
   "source": []
  }
 ],
 "metadata": {
  "kernelspec": {
   "display_name": "Python 3",
   "language": "python",
   "name": "python3"
  },
  "language_info": {
   "codemirror_mode": {
    "name": "ipython",
    "version": 3
   },
   "file_extension": ".py",
   "mimetype": "text/x-python",
   "name": "python",
   "nbconvert_exporter": "python",
   "pygments_lexer": "ipython3",
   "version": "3.10.1"
  }
 },
 "nbformat": 4,
 "nbformat_minor": 2
}
